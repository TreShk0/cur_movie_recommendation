{
 "cells": [
  {
   "cell_type": "code",
   "execution_count": 2,
   "metadata": {},
   "outputs": [
    {
     "name": "stdout",
     "output_type": "stream",
     "text": [
      "Матрица рекомендаций:\n",
      " [[1 0 1 0]\n",
      " [0 1 0 1]\n",
      " [0 1 0 1]\n",
      " [1 0 1 0]]\n"
     ]
    }
   ],
   "source": [
    "import numpy as np\n",
    "from scipy.sparse.linalg import svds\n",
    "\n",
    "# Пример бинарной матрицы взаимодействия\n",
    "R = np.array([[1, 0, 1, 0],\n",
    "              [0, 1, 0, 1],\n",
    "              [1, 1, 0, 0],\n",
    "              [0, 0, 1, 1]]).astype(float)\n",
    "\n",
    "# Задаем количество латентных факторов\n",
    "k = 2\n",
    "\n",
    "# Применяем SVD\n",
    "U, sigma, Vt = svds(R, k=k)\n",
    "sigma = np.diag(sigma)\n",
    "\n",
    "# Восстанавливаем матрицу предсказаний\n",
    "predicted_ratings = np.dot(np.dot(U, sigma), Vt)\n",
    "\n",
    "# Округление для интерпретации как вероятностей\n",
    "recommendations = (predicted_ratings > 0.5).astype(int)\n",
    "print(\"Матрица рекомендаций:\\n\", recommendations)\n"
   ]
  },
  {
   "cell_type": "code",
   "execution_count": null,
   "metadata": {},
   "outputs": [],
   "source": []
  }
 ],
 "metadata": {
  "kernelspec": {
   "display_name": "base",
   "language": "python",
   "name": "python3"
  },
  "language_info": {
   "codemirror_mode": {
    "name": "ipython",
    "version": 3
   },
   "file_extension": ".py",
   "mimetype": "text/x-python",
   "name": "python",
   "nbconvert_exporter": "python",
   "pygments_lexer": "ipython3",
   "version": "3.11.7"
  }
 },
 "nbformat": 4,
 "nbformat_minor": 2
}
